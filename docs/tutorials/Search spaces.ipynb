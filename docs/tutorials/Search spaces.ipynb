{
 "cells": [
  {
   "cell_type": "markdown",
   "metadata": {},
   "source": [
    "# Search spaces in NASLib\n",
    "\n",
    "Neural Architecure Search consists of 3 building blocks:\n",
    "- Search space (cell, hierarchical, ...)\n",
    "- Optimization\n",
    "- Evaluation\n",
    "\n",
    "Here we will conver the first part: Search spaces.\n",
    "\n",
    "## Cell search space\n",
    "\n",
    "The predominantway of representing NAS search spaces is the directed acyclic graph (DAG). Here, edges are operations (e.g. 3x3conv) and nodes are feature maps (i.e. Tensors).\n",
    "\n",
    "The optimizer searches for an optimal cell structre (i.e. the DAG) which is the building block for the network. How these building blocks then are aranged and wired is not part of the search space and usually defined manually."
   ]
  },
  {
   "cell_type": "markdown",
   "metadata": {},
   "source": [
    "Before starting we need to import the relevant classes.\n",
    "\n",
    "`EdgeOpGraph` represents the DAG object for our search space.\n",
    "\n",
    "Additionally we need to import the operations available for the edges (called \"Primitives\")"
   ]
  },
  {
   "cell_type": "code",
   "execution_count": 5,
   "metadata": {},
   "outputs": [],
   "source": [
    "from naslib.search_spaces.core import EdgeOpGraph\n",
    "from naslib.search_spaces.core.primitives import ReLUConvBN, Stem, Identity"
   ]
  },
  {
   "cell_type": "markdown",
   "metadata": {},
   "source": [
    "Next we can inspect the DARTS cell search space living in `search_spaces/darts/darts/graph.py`.\n",
    "\n",
    "Let's create a class which encapsulates our cell. This will be used as building block for the makro architecture."
   ]
  },
  {
   "cell_type": "code",
   "execution_count": null,
   "metadata": {},
   "outputs": [],
   "source": [
    "class ToyCell(EdgeOpGraph):\n",
    "    pass"
   ]
  },
  {
   "cell_type": "markdown",
   "metadata": {},
   "source": [
    "Each cell needs some information in the beginning\n",
    "\n",
    "- `primitives`: The operations which are available on the edges\n",
    "- `channels`: The number of output channels for convolutional kernels"
   ]
  },
  {
   "cell_type": "code",
   "execution_count": 4,
   "metadata": {},
   "outputs": [],
   "source": [
    "def __init__(self, primitives, channels, *args, **kwargs):\n",
    "    self.primitives = primitives\n",
    "    self.channels = channels\n",
    "    super(Cell, self).__init__(*args, **kwargs)"
   ]
  },
  {
   "cell_type": "code",
   "execution_count": null,
   "metadata": {},
   "outputs": [],
   "source": []
  },
  {
   "cell_type": "code",
   "execution_count": null,
   "metadata": {},
   "outputs": [],
   "source": []
  },
  {
   "cell_type": "code",
   "execution_count": 3,
   "metadata": {},
   "outputs": [],
   "source": [
    "\n",
    "    \n",
    "\n",
    "    def _build_graph(self):\n",
    "        # Input Nodes: Previous / Previous-Previous cell\n",
    "        preprocessing0 = FactorizedReduce(self.C_prev_prev, self.C, affine=False) \\\n",
    "            if self.reduction_prev else ReLUConvBN(self.C_prev_prev, self.C, 1, 1, 0, affine=False)\n",
    "        preprocessing1 = ReLUConvBN(self.C_prev, self.C, 1, 1, 0, affine=False)\n",
    "\n",
    "        self.add_node(0, type='input', preprocessing=preprocessing0, desc='previous-previous')\n",
    "        self.add_node(1, type='input', preprocessing=preprocessing1, desc='previous')\n",
    "\n",
    "        # 4 intermediate nodes\n",
    "        self.add_node(2, type='inter', comb_op='sum')\n",
    "        self.add_node(3, type='inter', comb_op='sum')\n",
    "        self.add_node(4, type='inter', comb_op='sum')\n",
    "        self.add_node(5, type='inter', comb_op='sum')\n",
    "\n",
    "        # Output node\n",
    "        self.add_node(6, type='output', comb_op='cat_channels')\n",
    "\n",
    "        # Edges: input-inter and inter-inter\n",
    "        for to_node in self.inter_nodes():\n",
    "            for from_node in range(to_node):\n",
    "                stride = 2 if self.cell_type == 'reduction' and from_node < 2 else 1\n",
    "                self.add_edge(\n",
    "                    from_node, to_node, op=None, op_choices=self.primitives,\n",
    "                    op_kwargs={'C': self.C, 'stride': stride, 'out_node_op': 'sum', 'ops_dict': self.ops_dict,\n",
    "                               'affine': False},\n",
    "                    to_node=to_node, from_node=from_node)\n",
    "\n",
    "        # Edges: inter-output\n",
    "        self.add_edge(2, 6, op=Identity())\n",
    "        self.add_edge(3, 6, op=Identity())\n",
    "        self.add_edge(4, 6, op=Identity())\n",
    "        self.add_edge(5, 6, op=Identity())"
   ]
  },
  {
   "cell_type": "code",
   "execution_count": null,
   "metadata": {},
   "outputs": [],
   "source": []
  },
  {
   "cell_type": "code",
   "execution_count": null,
   "metadata": {},
   "outputs": [],
   "source": []
  },
  {
   "cell_type": "code",
   "execution_count": null,
   "metadata": {},
   "outputs": [],
   "source": []
  },
  {
   "cell_type": "code",
   "execution_count": null,
   "metadata": {},
   "outputs": [],
   "source": []
  }
 ],
 "metadata": {
  "kernelspec": {
   "display_name": "Python 3",
   "language": "python",
   "name": "python3"
  },
  "language_info": {
   "codemirror_mode": {
    "name": "ipython",
    "version": 3
   },
   "file_extension": ".py",
   "mimetype": "text/x-python",
   "name": "python",
   "nbconvert_exporter": "python",
   "pygments_lexer": "ipython3",
   "version": "3.6.9"
  }
 },
 "nbformat": 4,
 "nbformat_minor": 4
}
